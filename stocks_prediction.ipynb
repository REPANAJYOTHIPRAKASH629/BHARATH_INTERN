{
 "cells": [
  {
   "cell_type": "markdown",
   "id": "c2aaf1f7",
   "metadata": {},
   "source": [
    "# Intern: REPANA JYOTHI PRAKASH"
   ]
  },
  {
   "cell_type": "markdown",
   "id": "01d91127",
   "metadata": {},
   "source": [
    "# Task 1 : Stock Market Prediction"
   ]
  },
  {
   "cell_type": "markdown",
   "id": "c6616611",
   "metadata": {},
   "source": [
    "# Import Libraries"
   ]
  },
  {
   "cell_type": "code",
   "execution_count": 2,
   "id": "331650b3",
   "metadata": {},
   "outputs": [],
   "source": [
    "import pandas as pd\n",
    "import seaborn as sns\n",
    "import numpy as np\n",
    "import matplotlib.pyplot as plt\n",
    "from sklearn.model_selection import train_test_split\n",
    "from sklearn.metrics import classification_report, accuracy_score, confusion_matrix\n",
    "from sklearn.preprocessing import MinMaxScaler\n",
    "from tensorflow.keras.models import Sequential\n",
    "from tensorflow.keras.layers import Dense, LSTM"
   ]
  },
  {
   "cell_type": "markdown",
   "id": "94e41e75",
   "metadata": {},
   "source": [
    "# Load/Fetch Dataset"
   ]
  },
  {
   "cell_type": "code",
   "execution_count": 3,
   "id": "7a2b8b0c",
   "metadata": {},
   "outputs": [
    {
     "data": {
      "text/html": [
       "<div>\n",
       "<style scoped>\n",
       "    .dataframe tbody tr th:only-of-type {\n",
       "        vertical-align: middle;\n",
       "    }\n",
       "\n",
       "    .dataframe tbody tr th {\n",
       "        vertical-align: top;\n",
       "    }\n",
       "\n",
       "    .dataframe thead th {\n",
       "        text-align: right;\n",
       "    }\n",
       "</style>\n",
       "<table border=\"1\" class=\"dataframe\">\n",
       "  <thead>\n",
       "    <tr style=\"text-align: right;\">\n",
       "      <th></th>\n",
       "      <th>Date</th>\n",
       "      <th>Open</th>\n",
       "      <th>High</th>\n",
       "      <th>Low</th>\n",
       "      <th>Last</th>\n",
       "      <th>Close</th>\n",
       "      <th>Total Trade Quantity</th>\n",
       "      <th>Turnover (Lacs)</th>\n",
       "    </tr>\n",
       "  </thead>\n",
       "  <tbody>\n",
       "    <tr>\n",
       "      <th>0</th>\n",
       "      <td>2018-09-28</td>\n",
       "      <td>234.05</td>\n",
       "      <td>235.95</td>\n",
       "      <td>230.20</td>\n",
       "      <td>233.50</td>\n",
       "      <td>233.75</td>\n",
       "      <td>3069914</td>\n",
       "      <td>7162.35</td>\n",
       "    </tr>\n",
       "    <tr>\n",
       "      <th>1</th>\n",
       "      <td>2018-09-27</td>\n",
       "      <td>234.55</td>\n",
       "      <td>236.80</td>\n",
       "      <td>231.10</td>\n",
       "      <td>233.80</td>\n",
       "      <td>233.25</td>\n",
       "      <td>5082859</td>\n",
       "      <td>11859.95</td>\n",
       "    </tr>\n",
       "    <tr>\n",
       "      <th>2</th>\n",
       "      <td>2018-09-26</td>\n",
       "      <td>240.00</td>\n",
       "      <td>240.00</td>\n",
       "      <td>232.50</td>\n",
       "      <td>235.00</td>\n",
       "      <td>234.25</td>\n",
       "      <td>2240909</td>\n",
       "      <td>5248.60</td>\n",
       "    </tr>\n",
       "    <tr>\n",
       "      <th>3</th>\n",
       "      <td>2018-09-25</td>\n",
       "      <td>233.30</td>\n",
       "      <td>236.75</td>\n",
       "      <td>232.00</td>\n",
       "      <td>236.25</td>\n",
       "      <td>236.10</td>\n",
       "      <td>2349368</td>\n",
       "      <td>5503.90</td>\n",
       "    </tr>\n",
       "    <tr>\n",
       "      <th>4</th>\n",
       "      <td>2018-09-24</td>\n",
       "      <td>233.55</td>\n",
       "      <td>239.20</td>\n",
       "      <td>230.75</td>\n",
       "      <td>234.00</td>\n",
       "      <td>233.30</td>\n",
       "      <td>3423509</td>\n",
       "      <td>7999.55</td>\n",
       "    </tr>\n",
       "    <tr>\n",
       "      <th>...</th>\n",
       "      <td>...</td>\n",
       "      <td>...</td>\n",
       "      <td>...</td>\n",
       "      <td>...</td>\n",
       "      <td>...</td>\n",
       "      <td>...</td>\n",
       "      <td>...</td>\n",
       "      <td>...</td>\n",
       "    </tr>\n",
       "    <tr>\n",
       "      <th>2030</th>\n",
       "      <td>2010-07-27</td>\n",
       "      <td>117.60</td>\n",
       "      <td>119.50</td>\n",
       "      <td>112.00</td>\n",
       "      <td>118.80</td>\n",
       "      <td>118.65</td>\n",
       "      <td>586100</td>\n",
       "      <td>694.98</td>\n",
       "    </tr>\n",
       "    <tr>\n",
       "      <th>2031</th>\n",
       "      <td>2010-07-26</td>\n",
       "      <td>120.10</td>\n",
       "      <td>121.00</td>\n",
       "      <td>117.10</td>\n",
       "      <td>117.10</td>\n",
       "      <td>117.60</td>\n",
       "      <td>658440</td>\n",
       "      <td>780.01</td>\n",
       "    </tr>\n",
       "    <tr>\n",
       "      <th>2032</th>\n",
       "      <td>2010-07-23</td>\n",
       "      <td>121.80</td>\n",
       "      <td>121.95</td>\n",
       "      <td>120.25</td>\n",
       "      <td>120.35</td>\n",
       "      <td>120.65</td>\n",
       "      <td>281312</td>\n",
       "      <td>340.31</td>\n",
       "    </tr>\n",
       "    <tr>\n",
       "      <th>2033</th>\n",
       "      <td>2010-07-22</td>\n",
       "      <td>120.30</td>\n",
       "      <td>122.00</td>\n",
       "      <td>120.25</td>\n",
       "      <td>120.75</td>\n",
       "      <td>120.90</td>\n",
       "      <td>293312</td>\n",
       "      <td>355.17</td>\n",
       "    </tr>\n",
       "    <tr>\n",
       "      <th>2034</th>\n",
       "      <td>2010-07-21</td>\n",
       "      <td>122.10</td>\n",
       "      <td>123.00</td>\n",
       "      <td>121.05</td>\n",
       "      <td>121.10</td>\n",
       "      <td>121.55</td>\n",
       "      <td>658666</td>\n",
       "      <td>803.56</td>\n",
       "    </tr>\n",
       "  </tbody>\n",
       "</table>\n",
       "<p>2035 rows × 8 columns</p>\n",
       "</div>"
      ],
      "text/plain": [
       "            Date    Open    High     Low    Last   Close  \\\n",
       "0     2018-09-28  234.05  235.95  230.20  233.50  233.75   \n",
       "1     2018-09-27  234.55  236.80  231.10  233.80  233.25   \n",
       "2     2018-09-26  240.00  240.00  232.50  235.00  234.25   \n",
       "3     2018-09-25  233.30  236.75  232.00  236.25  236.10   \n",
       "4     2018-09-24  233.55  239.20  230.75  234.00  233.30   \n",
       "...          ...     ...     ...     ...     ...     ...   \n",
       "2030  2010-07-27  117.60  119.50  112.00  118.80  118.65   \n",
       "2031  2010-07-26  120.10  121.00  117.10  117.10  117.60   \n",
       "2032  2010-07-23  121.80  121.95  120.25  120.35  120.65   \n",
       "2033  2010-07-22  120.30  122.00  120.25  120.75  120.90   \n",
       "2034  2010-07-21  122.10  123.00  121.05  121.10  121.55   \n",
       "\n",
       "      Total Trade Quantity  Turnover (Lacs)  \n",
       "0                  3069914          7162.35  \n",
       "1                  5082859         11859.95  \n",
       "2                  2240909          5248.60  \n",
       "3                  2349368          5503.90  \n",
       "4                  3423509          7999.55  \n",
       "...                    ...              ...  \n",
       "2030                586100           694.98  \n",
       "2031                658440           780.01  \n",
       "2032                281312           340.31  \n",
       "2033                293312           355.17  \n",
       "2034                658666           803.56  \n",
       "\n",
       "[2035 rows x 8 columns]"
      ]
     },
     "execution_count": 3,
     "metadata": {},
     "output_type": "execute_result"
    }
   ],
   "source": [
    "df = pd.read_csv('NSE-TATAGLOBAL.csv')\n",
    "df"
   ]
  },
  {
   "cell_type": "code",
   "execution_count": 4,
   "id": "584ae138",
   "metadata": {},
   "outputs": [
    {
     "data": {
      "text/plain": [
       "0       233.75\n",
       "1       233.25\n",
       "2       234.25\n",
       "3       236.10\n",
       "4       233.30\n",
       "         ...  \n",
       "2030    118.65\n",
       "2031    117.60\n",
       "2032    120.65\n",
       "2033    120.90\n",
       "2034    121.55\n",
       "Name: Close, Length: 2035, dtype: float64"
      ]
     },
     "execution_count": 4,
     "metadata": {},
     "output_type": "execute_result"
    }
   ],
   "source": [
    "df1=df.reset_index()['Close']\n",
    "df1"
   ]
  },
  {
   "cell_type": "code",
   "execution_count": 5,
   "id": "6faf6b5e",
   "metadata": {},
   "outputs": [
    {
     "data": {
      "text/plain": [
       "[<matplotlib.lines.Line2D at 0x1e60172a740>]"
      ]
     },
     "execution_count": 5,
     "metadata": {},
     "output_type": "execute_result"
    },
    {
     "data": {
      "image/png": "[encoded data removed]",
      "text/plain": [
       "<Figure size 640x480 with 1 Axes>"
      ]
     },
     "metadata": {},
     "output_type": "display_data"
    }
   ],
   "source": [
    "plt.plot(df1)"
   ]
  },
  {
   "cell_type": "markdown",
   "id": "073c4f9b",
   "metadata": {},
   "source": [
    "# LSTM are sensitive to the scale of the data. so we apply MinMax scaler"
   ]
  },
  {
   "cell_type": "code",
   "execution_count": 6,
   "id": "9d8c1ae7",
   "metadata": {},
   "outputs": [
    {
     "name": "stdout",
     "output_type": "stream",
     "text": [
      "[[0.62418301]\n",
      " [0.62214052]\n",
      " [0.62622549]\n",
      " ...\n",
      " [0.1621732 ]\n",
      " [0.16319444]\n",
      " [0.16584967]]\n"
     ]
    }
   ],
   "source": [
    "scaler=MinMaxScaler(feature_range=(0,1))\n",
    "df1=scaler.fit_transform(np.array(df1).reshape(-1,1))\n",
    "print(df1)"
   ]
  },
  {
   "cell_type": "markdown",
   "id": "50b5076e",
   "metadata": {},
   "source": [
    "# Splitting dataset into train and test data"
   ]
  },
  {
   "cell_type": "code",
   "execution_count": 7,
   "id": "5b4b1f4c",
   "metadata": {},
   "outputs": [
    {
     "name": "stdout",
     "output_type": "stream",
     "text": [
      "Training Size is:  1322\n",
      "Test Size is:  713\n"
     ]
    }
   ],
   "source": [
    "training_size=int(len(df1)*0.65)\n",
    "test_size=len(df1)-training_size\n",
    "train_data,test_data=df1[0:training_size,:],df1[training_size:len(df1),:1]\n",
    "\n",
    "print(\"Training Size is: \", training_size)\n",
    "print(\"Test Size is: \", test_size)"
   ]
  },
  {
   "cell_type": "markdown",
   "id": "5bd92f12",
   "metadata": {},
   "source": [
    "# Convert an array of values to dataset matrics"
   ]
  },
  {
   "cell_type": "code",
   "execution_count": 8,
   "id": "189bed2e",
   "metadata": {},
   "outputs": [],
   "source": [
    "def create_dataset(dataset, time_step=1):\n",
    "    dataX, dataY = [], []\n",
    "    for i in range(len(dataset)-time_step-1):\n",
    "        a = dataset[i:(i+time_step), 0]   ###i=0, 0,1,2,3-----99   100 \n",
    "        dataX.append(a)\n",
    "        dataY.append(dataset[i + time_step, 0])\n",
    "    return np.array(dataX), np.array(dataY)"
   ]
  },
  {
   "cell_type": "markdown",
   "id": "17e1b6c8",
   "metadata": {},
   "source": [
    "# Reshaping into X=t,t+1,t+2,t+3 and Y=t+4"
   ]
  },
  {
   "cell_type": "code",
   "execution_count": 9,
   "id": "beda966c",
   "metadata": {},
   "outputs": [],
   "source": [
    "time_step = 100\n",
    "X_train, y_train = create_dataset(train_data, time_step)\n",
    "X_test, y_test = create_dataset(test_data, time_step)"
   ]
  },
  {
   "cell_type": "code",
   "execution_count": 10,
   "id": "8e8a2b83",
   "metadata": {},
   "outputs": [
    {
     "name": "stdout",
     "output_type": "stream",
     "text": [
      "Reshaped X_train:  (1221, 100)\n",
      "Reshaped y_train:  (1221,)\n",
      "Reshaped X_test:  (612, 100)\n",
      "Reshaped y_test:  (612,)\n"
     ]
    }
   ],
   "source": [
    "print(\"Reshaped X_train: \", X_train.shape)\n",
    "print(\"Reshaped y_train: \", y_train.shape)\n",
    "print(\"Reshaped X_test: \", X_test.shape)\n",
    "print(\"Reshaped y_test: \", y_test.shape)"
   ]
  },
  {
   "cell_type": "markdown",
   "id": "87d14e02",
   "metadata": {},
   "source": [
    "# Reshape input to be [samples, time steps, features] which is required for LSTM"
   ]
  },
  {
   "cell_type": "code",
   "execution_count": 11,
   "id": "1e7ccf86",
   "metadata": {},
   "outputs": [],
   "source": [
    "X_train = X_train.reshape(X_train.shape[0],X_train.shape[1] , 1)\n",
    "X_test = X_test.reshape(X_test.shape[0],X_test.shape[1] , 1)"
   ]
  },
  {
   "cell_type": "markdown",
   "id": "b044e98b",
   "metadata": {},
   "source": [
    "# Create the Stacked LSTM model"
   ]
  },
  {
   "cell_type": "code",
   "execution_count": 12,
   "id": "15524618",
   "metadata": {},
   "outputs": [],
   "source": [
    "model=Sequential()\n",
    "model.add(LSTM(50,return_sequences=True,input_shape=(100,1)))\n",
    "model.add(LSTM(50,return_sequences=True))\n",
    "model.add(LSTM(50))\n",
    "model.add(Dense(1))\n",
    "model.compile(loss='mean_squared_error',optimizer='adam')"
   ]
  },
  {
   "cell_type": "code",
   "execution_count": 13,
   "id": "a5c1292c",
   "metadata": {},
   "outputs": [
    {
     "name": "stdout",
     "output_type": "stream",
     "text": [
      "Model: \"sequential\"\n",
      "_________________________________________________________________\n",
      " Layer (type)                Output Shape              Param #   \n",
      "=================================================================\n",
      " lstm (LSTM)                 (None, 100, 50)           10400     \n",
      "                                                                 \n",
      " lstm_1 (LSTM)               (None, 100, 50)           20200     \n",
      "                                                                 \n",
      " lstm_2 (LSTM)               (None, 50)                20200     \n",
      "                                                                 \n",
      " dense (Dense)               (None, 1)                 51        \n",
      "                                                                 \n",
      "=================================================================\n",
      "Total params: 50,851\n",
      "Trainable params: 50,851\n",
      "Non-trainable params: 0\n",
      "_________________________________________________________________\n"
     ]
    }
   ],
   "source": [
    "model.summary()"
   ]
  },
  {
   "cell_type": "code",
   "execution_count": 14,
   "id": "879a1660",
   "metadata": {
    "scrolled": false
   },
   "outputs": [
    {
     "name": "stdout",
     "output_type": "stream",
     "text": [
      "Epoch 1/100\n",
      "20/20 [==============================] - 11s 230ms/step - loss: 0.0265 - val_loss: 0.0060\n",
      "Epoch 2/100\n",
      "20/20 [==============================] - 3s 155ms/step - loss: 0.0030 - val_loss: 0.0010\n",
      "Epoch 3/100\n",
      "20/20 [==============================] - 3s 165ms/step - loss: 0.0019 - val_loss: 0.0011\n",
      "Epoch 4/100\n",
      "20/20 [==============================] - 3s 151ms/step - loss: 0.0018 - val_loss: 0.0012\n",
      "Epoch 5/100\n",
      "20/20 [==============================] - 3s 155ms/step - loss: 0.0016 - val_loss: 0.0012\n",
      "Epoch 6/100\n",
      "20/20 [==============================] - 3s 176ms/step - loss: 0.0016 - val_loss: 0.0012\n",
      "Epoch 7/100\n",
      "20/20 [==============================] - 4s 218ms/step - loss: 0.0016 - val_loss: 0.0014\n",
      "Epoch 8/100\n",
      "20/20 [==============================] - 4s 202ms/step - loss: 0.0016 - val_loss: 9.7874e-04\n",
      "Epoch 9/100\n",
      "20/20 [==============================] - 4s 220ms/step - loss: 0.0014 - val_loss: 0.0012\n",
      "Epoch 10/100\n",
      "20/20 [==============================] - 4s 200ms/step - loss: 0.0013 - val_loss: 0.0011\n",
      "Epoch 11/100\n",
      "20/20 [==============================] - 4s 180ms/step - loss: 0.0012 - val_loss: 0.0010\n",
      "Epoch 12/100\n",
      "20/20 [==============================] - 4s 183ms/step - loss: 0.0011 - val_loss: 0.0010\n",
      "Epoch 13/100\n",
      "20/20 [==============================] - 4s 189ms/step - loss: 0.0011 - val_loss: 0.0013\n",
      "Epoch 14/100\n",
      "20/20 [==============================] - 4s 178ms/step - loss: 0.0012 - val_loss: 7.6966e-04\n",
      "Epoch 15/100\n",
      "20/20 [==============================] - 4s 182ms/step - loss: 0.0010 - val_loss: 0.0010\n",
      "Epoch 16/100\n",
      "20/20 [==============================] - 4s 175ms/step - loss: 9.4266e-04 - val_loss: 0.0012\n",
      "Epoch 17/100\n",
      "20/20 [==============================] - 4s 178ms/step - loss: 0.0011 - val_loss: 9.2671e-04\n",
      "Epoch 18/100\n",
      "20/20 [==============================] - 4s 179ms/step - loss: 0.0011 - val_loss: 8.1898e-04\n",
      "Epoch 19/100\n",
      "20/20 [==============================] - 4s 183ms/step - loss: 9.0360e-04 - val_loss: 8.2396e-04\n",
      "Epoch 20/100\n",
      "20/20 [==============================] - 4s 180ms/step - loss: 8.4595e-04 - val_loss: 6.1617e-04\n",
      "Epoch 21/100\n",
      "20/20 [==============================] - 4s 179ms/step - loss: 8.0835e-04 - val_loss: 7.0038e-04\n",
      "Epoch 22/100\n",
      "20/20 [==============================] - 4s 179ms/step - loss: 8.5885e-04 - val_loss: 7.5696e-04\n",
      "Epoch 23/100\n",
      "20/20 [==============================] - 4s 182ms/step - loss: 8.3882e-04 - val_loss: 9.3487e-04\n",
      "Epoch 24/100\n",
      "20/20 [==============================] - 4s 191ms/step - loss: 8.8871e-04 - val_loss: 7.5202e-04\n",
      "Epoch 25/100\n",
      "20/20 [==============================] - 4s 186ms/step - loss: 8.1564e-04 - val_loss: 6.9185e-04\n",
      "Epoch 26/100\n",
      "20/20 [==============================] - 4s 183ms/step - loss: 7.0039e-04 - val_loss: 6.7535e-04\n",
      "Epoch 27/100\n",
      "20/20 [==============================] - 4s 192ms/step - loss: 6.8126e-04 - val_loss: 6.4856e-04\n",
      "Epoch 28/100\n",
      "20/20 [==============================] - 4s 184ms/step - loss: 6.7399e-04 - val_loss: 7.6650e-04\n",
      "Epoch 29/100\n",
      "20/20 [==============================] - 4s 194ms/step - loss: 6.6466e-04 - val_loss: 6.1116e-04\n",
      "Epoch 30/100\n",
      "20/20 [==============================] - 4s 179ms/step - loss: 7.1255e-04 - val_loss: 8.4115e-04\n",
      "Epoch 31/100\n",
      "20/20 [==============================] - 4s 188ms/step - loss: 7.1680e-04 - val_loss: 7.0761e-04\n",
      "Epoch 32/100\n",
      "20/20 [==============================] - 4s 191ms/step - loss: 6.3734e-04 - val_loss: 8.3917e-04\n",
      "Epoch 33/100\n",
      "20/20 [==============================] - 4s 194ms/step - loss: 6.4366e-04 - val_loss: 6.3684e-04\n",
      "Epoch 34/100\n",
      "20/20 [==============================] - 4s 193ms/step - loss: 6.2699e-04 - val_loss: 5.1972e-04\n",
      "Epoch 35/100\n",
      "20/20 [==============================] - 4s 192ms/step - loss: 8.3812e-04 - val_loss: 7.9206e-04\n",
      "Epoch 36/100\n",
      "20/20 [==============================] - 4s 196ms/step - loss: 9.1073e-04 - val_loss: 9.5766e-04\n",
      "Epoch 37/100\n",
      "20/20 [==============================] - 4s 208ms/step - loss: 6.8410e-04 - val_loss: 5.2763e-04\n",
      "Epoch 38/100\n",
      "20/20 [==============================] - 4s 184ms/step - loss: 6.4366e-04 - val_loss: 5.6634e-04\n",
      "Epoch 39/100\n",
      "20/20 [==============================] - 4s 188ms/step - loss: 5.6446e-04 - val_loss: 6.6580e-04\n",
      "Epoch 40/100\n",
      "20/20 [==============================] - 4s 196ms/step - loss: 5.8228e-04 - val_loss: 7.2367e-04\n",
      "Epoch 41/100\n",
      "20/20 [==============================] - 4s 189ms/step - loss: 5.5004e-04 - val_loss: 5.1200e-04\n",
      "Epoch 42/100\n",
      "20/20 [==============================] - 4s 201ms/step - loss: 5.9090e-04 - val_loss: 5.7023e-04\n",
      "Epoch 43/100\n",
      "20/20 [==============================] - 4s 204ms/step - loss: 5.1780e-04 - val_loss: 5.8376e-04\n",
      "Epoch 44/100\n",
      "20/20 [==============================] - 4s 216ms/step - loss: 5.1535e-04 - val_loss: 6.0199e-04\n",
      "Epoch 45/100\n",
      "20/20 [==============================] - 4s 203ms/step - loss: 5.1014e-04 - val_loss: 6.1294e-04\n",
      "Epoch 46/100\n",
      "20/20 [==============================] - 4s 194ms/step - loss: 5.0358e-04 - val_loss: 5.0374e-04\n",
      "Epoch 47/100\n",
      "20/20 [==============================] - 4s 195ms/step - loss: 5.3161e-04 - val_loss: 5.5588e-04\n",
      "Epoch 48/100\n",
      "20/20 [==============================] - 4s 191ms/step - loss: 5.7464e-04 - val_loss: 5.7550e-04\n",
      "Epoch 49/100\n",
      "20/20 [==============================] - 4s 193ms/step - loss: 6.1130e-04 - val_loss: 4.1720e-04\n",
      "Epoch 50/100\n",
      "20/20 [==============================] - 4s 194ms/step - loss: 5.4909e-04 - val_loss: 6.0334e-04\n",
      "Epoch 51/100\n",
      "20/20 [==============================] - 4s 199ms/step - loss: 4.6862e-04 - val_loss: 4.7015e-04\n",
      "Epoch 52/100\n",
      "20/20 [==============================] - 4s 200ms/step - loss: 4.6698e-04 - val_loss: 4.0951e-04\n",
      "Epoch 53/100\n",
      "20/20 [==============================] - 4s 195ms/step - loss: 4.7628e-04 - val_loss: 4.5756e-04\n",
      "Epoch 54/100\n",
      "20/20 [==============================] - 4s 186ms/step - loss: 4.6015e-04 - val_loss: 4.0071e-04\n",
      "Epoch 55/100\n",
      "20/20 [==============================] - 4s 186ms/step - loss: 4.7041e-04 - val_loss: 6.3174e-04\n",
      "Epoch 56/100\n",
      "20/20 [==============================] - 4s 189ms/step - loss: 4.7890e-04 - val_loss: 4.6656e-04\n",
      "Epoch 57/100\n",
      "20/20 [==============================] - 4s 215ms/step - loss: 4.1926e-04 - val_loss: 6.6631e-04\n",
      "Epoch 58/100\n",
      "20/20 [==============================] - 4s 202ms/step - loss: 4.8569e-04 - val_loss: 3.6047e-04\n",
      "Epoch 59/100\n",
      "20/20 [==============================] - 4s 203ms/step - loss: 4.7708e-04 - val_loss: 5.4745e-04\n",
      "Epoch 60/100\n",
      "20/20 [==============================] - 4s 213ms/step - loss: 5.2907e-04 - val_loss: 3.7951e-04\n",
      "Epoch 61/100\n",
      "20/20 [==============================] - 4s 198ms/step - loss: 4.4816e-04 - val_loss: 4.9104e-04\n",
      "Epoch 62/100\n",
      "20/20 [==============================] - 4s 199ms/step - loss: 4.1228e-04 - val_loss: 4.5615e-04\n",
      "Epoch 63/100\n",
      "20/20 [==============================] - 4s 192ms/step - loss: 6.5480e-04 - val_loss: 3.6152e-04\n",
      "Epoch 64/100\n",
      "20/20 [==============================] - 4s 192ms/step - loss: 3.7537e-04 - val_loss: 3.5801e-04\n",
      "Epoch 65/100\n",
      "20/20 [==============================] - 4s 195ms/step - loss: 4.0589e-04 - val_loss: 3.5732e-04\n",
      "Epoch 66/100\n",
      "20/20 [==============================] - 4s 184ms/step - loss: 3.7017e-04 - val_loss: 3.9616e-04\n",
      "Epoch 67/100\n",
      "20/20 [==============================] - 4s 198ms/step - loss: 3.4346e-04 - val_loss: 3.7769e-04\n",
      "Epoch 68/100\n",
      "20/20 [==============================] - 4s 191ms/step - loss: 3.5390e-04 - val_loss: 3.5711e-04\n",
      "Epoch 69/100\n",
      "20/20 [==============================] - 4s 190ms/step - loss: 3.9153e-04 - val_loss: 5.3991e-04\n",
      "Epoch 70/100\n",
      "20/20 [==============================] - 4s 190ms/step - loss: 3.6112e-04 - val_loss: 3.8028e-04\n",
      "Epoch 71/100\n",
      "20/20 [==============================] - 4s 185ms/step - loss: 3.5124e-04 - val_loss: 3.2490e-04\n",
      "Epoch 72/100\n",
      "20/20 [==============================] - 4s 187ms/step - loss: 3.3639e-04 - val_loss: 3.9011e-04\n",
      "Epoch 73/100\n",
      "20/20 [==============================] - 4s 183ms/step - loss: 3.4368e-04 - val_loss: 3.0887e-04\n",
      "Epoch 74/100\n",
      "20/20 [==============================] - 4s 197ms/step - loss: 5.2109e-04 - val_loss: 3.3167e-04\n",
      "Epoch 75/100\n",
      "20/20 [==============================] - 4s 192ms/step - loss: 3.7324e-04 - val_loss: 2.8683e-04\n",
      "Epoch 76/100\n"
     ]
    },
    {
     "name": "stdout",
     "output_type": "stream",
     "text": [
      "20/20 [==============================] - 4s 201ms/step - loss: 3.0177e-04 - val_loss: 4.5739e-04\n",
      "Epoch 77/100\n",
      "20/20 [==============================] - 4s 191ms/step - loss: 3.0624e-04 - val_loss: 3.3214e-04\n",
      "Epoch 78/100\n",
      "20/20 [==============================] - 4s 187ms/step - loss: 3.2883e-04 - val_loss: 3.0290e-04\n",
      "Epoch 79/100\n",
      "20/20 [==============================] - 4s 186ms/step - loss: 3.0642e-04 - val_loss: 2.3644e-04\n",
      "Epoch 80/100\n",
      "20/20 [==============================] - 4s 188ms/step - loss: 3.3919e-04 - val_loss: 2.5767e-04\n",
      "Epoch 81/100\n",
      "20/20 [==============================] - 4s 182ms/step - loss: 2.7916e-04 - val_loss: 3.2787e-04\n",
      "Epoch 82/100\n",
      "20/20 [==============================] - 4s 192ms/step - loss: 3.5386e-04 - val_loss: 2.5631e-04\n",
      "Epoch 83/100\n",
      "20/20 [==============================] - 4s 194ms/step - loss: 2.7275e-04 - val_loss: 5.2150e-04\n",
      "Epoch 84/100\n",
      "20/20 [==============================] - 4s 185ms/step - loss: 2.9117e-04 - val_loss: 2.3857e-04\n",
      "Epoch 85/100\n",
      "20/20 [==============================] - 4s 198ms/step - loss: 2.7950e-04 - val_loss: 2.3161e-04\n",
      "Epoch 86/100\n",
      "20/20 [==============================] - 4s 211ms/step - loss: 4.0587e-04 - val_loss: 2.7536e-04\n",
      "Epoch 87/100\n",
      "20/20 [==============================] - 4s 202ms/step - loss: 3.1448e-04 - val_loss: 5.0468e-04\n",
      "Epoch 88/100\n",
      "20/20 [==============================] - 4s 207ms/step - loss: 4.6977e-04 - val_loss: 3.0268e-04\n",
      "Epoch 89/100\n",
      "20/20 [==============================] - 4s 213ms/step - loss: 3.0272e-04 - val_loss: 2.7037e-04\n",
      "Epoch 90/100\n",
      "20/20 [==============================] - 4s 206ms/step - loss: 2.8202e-04 - val_loss: 2.1619e-04\n",
      "Epoch 91/100\n",
      "20/20 [==============================] - 4s 210ms/step - loss: 2.5734e-04 - val_loss: 3.7771e-04\n",
      "Epoch 92/100\n",
      "20/20 [==============================] - 4s 194ms/step - loss: 2.8658e-04 - val_loss: 2.5974e-04\n",
      "Epoch 93/100\n",
      "20/20 [==============================] - 4s 191ms/step - loss: 2.5765e-04 - val_loss: 2.1937e-04\n",
      "Epoch 94/100\n",
      "20/20 [==============================] - 4s 211ms/step - loss: 2.5279e-04 - val_loss: 2.5484e-04\n",
      "Epoch 95/100\n",
      "20/20 [==============================] - 4s 205ms/step - loss: 2.3985e-04 - val_loss: 2.2877e-04\n",
      "Epoch 96/100\n",
      "20/20 [==============================] - 4s 187ms/step - loss: 2.4646e-04 - val_loss: 2.2612e-04\n",
      "Epoch 97/100\n",
      "20/20 [==============================] - 4s 192ms/step - loss: 2.4186e-04 - val_loss: 2.0596e-04\n",
      "Epoch 98/100\n",
      "20/20 [==============================] - 4s 197ms/step - loss: 2.3818e-04 - val_loss: 2.1033e-04\n",
      "Epoch 99/100\n",
      "20/20 [==============================] - 4s 189ms/step - loss: 2.5525e-04 - val_loss: 2.5394e-04\n",
      "Epoch 100/100\n",
      "20/20 [==============================] - 4s 200ms/step - loss: 2.4786e-04 - val_loss: 2.4880e-04\n"
     ]
    },
    {
     "data": {
      "text/plain": [
       "<keras.callbacks.History at 0x1e603289360>"
      ]
     },
     "execution_count": 14,
     "metadata": {},
     "output_type": "execute_result"
    }
   ],
   "source": [
    "model.fit(X_train,\n",
    "          y_train,\n",
    "          validation_data=(X_test,y_test),\n",
    "          epochs=100,\n",
    "          batch_size=64,\n",
    "          verbose=1)"
   ]
  },
  {
   "cell_type": "markdown",
   "id": "c54dde59",
   "metadata": {},
   "source": [
    "# Model prediction and performance metrics"
   ]
  },
  {
   "cell_type": "code",
   "execution_count": 15,
   "id": "291681fd",
   "metadata": {},
   "outputs": [
    {
     "name": "stdout",
     "output_type": "stream",
     "text": [
      "39/39 [==============================] - 2s 25ms/step\n",
      "20/20 [==============================] - 1s 25ms/step\n"
     ]
    }
   ],
   "source": [
    "train_predict = model.predict(X_train)\n",
    "test_predict = model.predict(X_test)"
   ]
  },
  {
   "cell_type": "markdown",
   "id": "5e4478b9",
   "metadata": {},
   "source": [
    "# Back to original form (matrics to values)"
   ]
  },
  {
   "cell_type": "code",
   "execution_count": 16,
   "id": "b98c9712",
   "metadata": {},
   "outputs": [],
   "source": [
    "train_predict=scaler.inverse_transform(train_predict)\n",
    "test_predict=scaler.inverse_transform(test_predict)"
   ]
  },
  {
   "cell_type": "markdown",
   "id": "be3111cc",
   "metadata": {},
   "source": [
    "# Calculate root mean square error (RMSE) performance metrics"
   ]
  },
  {
   "cell_type": "code",
   "execution_count": 17,
   "id": "dbaa0e31",
   "metadata": {},
   "outputs": [
    {
     "name": "stdout",
     "output_type": "stream",
     "text": [
      "RMSE value for training data is:  166.49949898488418\n",
      "RMSE value for testing data is:  116.5790457960041\n"
     ]
    }
   ],
   "source": [
    "import math\n",
    "from sklearn.metrics import mean_squared_error\n",
    "print(\"RMSE value for training data is: \",math.sqrt(mean_squared_error(y_train,train_predict)))\n",
    "print(\"RMSE value for testing data is: \",math.sqrt(mean_squared_error(y_test,test_predict)))"
   ]
  },
  {
   "cell_type": "markdown",
   "id": "29de50d3",
   "metadata": {},
   "source": [
    "# Visualize train and test pattern"
   ]
  },
  {
   "cell_type": "code",
   "execution_count": 18,
   "id": "6944f7eb",
   "metadata": {},
   "outputs": [
    {
     "data": {
      "image/png": "[encoded data removed]",
      "text/plain": [
       "<Figure size 640x480 with 1 Axes>"
      ]
     },
     "metadata": {},
     "output_type": "display_data"
    }
   ],
   "source": [
    "# shift train predictions for plotting\n",
    "look_back=100\n",
    "trainPredictPlot = np.empty_like(df1)\n",
    "trainPredictPlot[:, :] = np.nan\n",
    "trainPredictPlot[look_back:len(train_predict)+look_back, :] = train_predict\n",
    "\n",
    "# shift test predictions for plotting\n",
    "testPredictPlot = np.empty_like(df1)\n",
    "testPredictPlot[:, :] = np.nan\n",
    "testPredictPlot[len(train_predict)+(look_back*2)+1:len(df1)-1, :] = test_predict\n",
    "\n",
    "# plot baseline and predictions\n",
    "plt.plot(scaler.inverse_transform(df1))\n",
    "plt.plot(trainPredictPlot)\n",
    "plt.plot(testPredictPlot)\n",
    "plt.show()"
   ]
  },
  {
   "cell_type": "code",
   "execution_count": 19,
   "id": "87bce048",
   "metadata": {},
   "outputs": [
    {
     "data": {
      "text/plain": [
       "713"
      ]
     },
     "execution_count": 19,
     "metadata": {},
     "output_type": "execute_result"
    }
   ],
   "source": [
    "len(test_data)"
   ]
  },
  {
   "cell_type": "code",
   "execution_count": 20,
   "id": "38d1fe5f",
   "metadata": {},
   "outputs": [
    {
     "data": {
      "text/plain": [
       "(1, 100)"
      ]
     },
     "execution_count": 20,
     "metadata": {},
     "output_type": "execute_result"
    }
   ],
   "source": [
    "x_input=test_data[613:].reshape(1,-1)\n",
    "x_input.shape"
   ]
  },
  {
   "cell_type": "markdown",
   "id": "a2554c0e",
   "metadata": {},
   "source": [
    "# Temporary input"
   ]
  },
  {
   "cell_type": "code",
   "execution_count": 21,
   "id": "3c7600a5",
   "metadata": {},
   "outputs": [],
   "source": [
    "temp_input=list(x_input)\n",
    "temp_input=temp_input[0].tolist()"
   ]
  },
  {
   "cell_type": "code",
   "execution_count": 22,
   "id": "f1bbbaf1",
   "metadata": {},
   "outputs": [
    {
     "data": {
      "text/plain": [
       "[0.12479575163398693,\n",
       " 0.1384803921568627,\n",
       " 0.14011437908496732,\n",
       " 0.1388888888888889,\n",
       " 0.13541666666666663,\n",
       " 0.14011437908496732,\n",
       " 0.13807189542483655,\n",
       " 0.130718954248366,\n",
       " 0.130718954248366,\n",
       " 0.12867647058823528,\n",
       " 0.11846405228758167,\n",
       " 0.14644607843137253,\n",
       " 0.1480800653594771,\n",
       " 0.159109477124183,\n",
       " 0.15992647058823523,\n",
       " 0.1578839869281045,\n",
       " 0.16441993464052285,\n",
       " 0.178921568627451,\n",
       " 0.17933006535947704,\n",
       " 0.19260620915032678,\n",
       " 0.2081290849673203,\n",
       " 0.18974673202614378,\n",
       " 0.18055555555555558,\n",
       " 0.1823937908496731,\n",
       " 0.17708333333333326,\n",
       " 0.17810457516339862,\n",
       " 0.18055555555555558,\n",
       " 0.17810457516339862,\n",
       " 0.17851307189542487,\n",
       " 0.196078431372549,\n",
       " 0.18913398692810457,\n",
       " 0.1895424836601307,\n",
       " 0.19403594771241828,\n",
       " 0.19444444444444442,\n",
       " 0.20200163398692816,\n",
       " 0.19771241830065356,\n",
       " 0.19934640522875813,\n",
       " 0.19873366013071891,\n",
       " 0.19975490196078427,\n",
       " 0.21282679738562094,\n",
       " 0.21568627450980393,\n",
       " 0.2044526143790849,\n",
       " 0.21772875816993464,\n",
       " 0.21098856209150318,\n",
       " 0.21425653594771243,\n",
       " 0.1975081699346406,\n",
       " 0.1881127450980392,\n",
       " 0.17851307189542487,\n",
       " 0.17381535947712412,\n",
       " 0.16033496732026142,\n",
       " 0.16564542483660127,\n",
       " 0.1711601307189542,\n",
       " 0.17422385620915026,\n",
       " 0.1803513071895424,\n",
       " 0.1740196078431372,\n",
       " 0.16278594771241828,\n",
       " 0.1697303921568627,\n",
       " 0.17810457516339862,\n",
       " 0.1703431372549019,\n",
       " 0.16830065359477125,\n",
       " 0.17279411764705876,\n",
       " 0.1754493464052288,\n",
       " 0.18382352941176472,\n",
       " 0.19138071895424835,\n",
       " 0.18913398692810457,\n",
       " 0.1909722222222222,\n",
       " 0.17238562091503273,\n",
       " 0.16830065359477125,\n",
       " 0.16932189542483655,\n",
       " 0.1717728758169934,\n",
       " 0.16156045751633985,\n",
       " 0.14971405228758167,\n",
       " 0.15032679738562088,\n",
       " 0.1519607843137255,\n",
       " 0.1472630718954248,\n",
       " 0.14501633986928103,\n",
       " 0.14603758169934639,\n",
       " 0.12479575163398693,\n",
       " 0.13112745098039214,\n",
       " 0.11397058823529405,\n",
       " 0.11907679738562088,\n",
       " 0.12377450980392157,\n",
       " 0.13562091503267976,\n",
       " 0.12908496732026142,\n",
       " 0.1345996732026144,\n",
       " 0.12806372549019607,\n",
       " 0.13031045751633985,\n",
       " 0.12724673202614373,\n",
       " 0.13521241830065356,\n",
       " 0.1452205882352941,\n",
       " 0.15257352941176466,\n",
       " 0.14848856209150324,\n",
       " 0.14338235294117646,\n",
       " 0.14562908496732024,\n",
       " 0.1523692810457516,\n",
       " 0.15400326797385622,\n",
       " 0.14971405228758167,\n",
       " 0.16217320261437906,\n",
       " 0.16319444444444448,\n",
       " 0.16584967320261434]"
      ]
     },
     "execution_count": 22,
     "metadata": {},
     "output_type": "execute_result"
    }
   ],
   "source": [
    "temp_input"
   ]
  },
  {
   "cell_type": "markdown",
   "id": "635bb392",
   "metadata": {},
   "source": [
    "# Demonstrate prediction for next 10 days"
   ]
  },
  {
   "cell_type": "code",
   "execution_count": 24,
   "id": "79bc1a1f",
   "metadata": {
    "scrolled": false
   },
   "outputs": [
    {
     "name": "stdout",
     "output_type": "stream",
     "text": [
      "0 day input [0.18913399 0.18954248 0.19403595 0.19444444 0.20200163 0.19771242\n",
      " 0.19934641 0.19873366 0.1997549  0.2128268  0.21568627 0.20445261\n",
      " 0.21772876 0.21098856 0.21425654 0.19750817 0.18811275 0.17851307\n",
      " 0.17381536 0.16033497 0.16564542 0.17116013 0.17422386 0.18035131\n",
      " 0.17401961 0.16278595 0.16973039 0.17810458 0.17034314 0.16830065\n",
      " 0.17279412 0.17544935 0.18382353 0.19138072 0.18913399 0.19097222\n",
      " 0.17238562 0.16830065 0.1693219  0.17177288 0.16156046 0.14971405\n",
      " 0.1503268  0.15196078 0.14726307 0.14501634 0.14603758 0.12479575\n",
      " 0.13112745 0.11397059 0.1190768  0.12377451 0.13562092 0.12908497\n",
      " 0.13459967 0.12806373 0.13031046 0.12724673 0.13521242 0.14522059\n",
      " 0.15257353 0.14848856 0.14338235 0.14562908 0.15236928 0.15400327\n",
      " 0.14971405 0.1621732  0.16319444 0.16584967 0.16809478 0.17125416\n",
      " 0.173814   0.1760551  0.1781258  0.18008706 0.18196496 0.18377578\n",
      " 0.1855329  0.18724704 0.1889258  0.19057393 0.19219398 0.19378713\n",
      " 0.19535387 0.19689447 0.19840947 0.19989946 0.20136529 0.20280802\n",
      " 0.204229   0.20562938 0.20701036 0.20837298 0.20971826 0.21104681\n",
      " 0.21235931 0.2136561  0.21493745 0.2162036 ]\n",
      "0 day output [[0.21745452]]\n",
      "1 day input [0.18954248 0.19403595 0.19444444 0.20200163 0.19771242 0.19934641\n",
      " 0.19873366 0.1997549  0.2128268  0.21568627 0.20445261 0.21772876\n",
      " 0.21098856 0.21425654 0.19750817 0.18811275 0.17851307 0.17381536\n",
      " 0.16033497 0.16564542 0.17116013 0.17422386 0.18035131 0.17401961\n",
      " 0.16278595 0.16973039 0.17810458 0.17034314 0.16830065 0.17279412\n",
      " 0.17544935 0.18382353 0.19138072 0.18913399 0.19097222 0.17238562\n",
      " 0.16830065 0.1693219  0.17177288 0.16156046 0.14971405 0.1503268\n",
      " 0.15196078 0.14726307 0.14501634 0.14603758 0.12479575 0.13112745\n",
      " 0.11397059 0.1190768  0.12377451 0.13562092 0.12908497 0.13459967\n",
      " 0.12806373 0.13031046 0.12724673 0.13521242 0.14522059 0.15257353\n",
      " 0.14848856 0.14338235 0.14562908 0.15236928 0.15400327 0.14971405\n",
      " 0.1621732  0.16319444 0.16584967 0.16809478 0.17125416 0.173814\n",
      " 0.1760551  0.1781258  0.18008706 0.18196496 0.18377578 0.1855329\n",
      " 0.18724704 0.1889258  0.19057393 0.19219398 0.19378713 0.19535387\n",
      " 0.19689447 0.19840947 0.19989946 0.20136529 0.20280802 0.204229\n",
      " 0.20562938 0.20701036 0.20837298 0.20971826 0.21104681 0.21235931\n",
      " 0.2136561  0.21493745 0.2162036  0.21745452]\n",
      "1 day output [[0.21869037]]\n",
      "2 day input [0.19403595 0.19444444 0.20200163 0.19771242 0.19934641 0.19873366\n",
      " 0.1997549  0.2128268  0.21568627 0.20445261 0.21772876 0.21098856\n",
      " 0.21425654 0.19750817 0.18811275 0.17851307 0.17381536 0.16033497\n",
      " 0.16564542 0.17116013 0.17422386 0.18035131 0.17401961 0.16278595\n",
      " 0.16973039 0.17810458 0.17034314 0.16830065 0.17279412 0.17544935\n",
      " 0.18382353 0.19138072 0.18913399 0.19097222 0.17238562 0.16830065\n",
      " 0.1693219  0.17177288 0.16156046 0.14971405 0.1503268  0.15196078\n",
      " 0.14726307 0.14501634 0.14603758 0.12479575 0.13112745 0.11397059\n",
      " 0.1190768  0.12377451 0.13562092 0.12908497 0.13459967 0.12806373\n",
      " 0.13031046 0.12724673 0.13521242 0.14522059 0.15257353 0.14848856\n",
      " 0.14338235 0.14562908 0.15236928 0.15400327 0.14971405 0.1621732\n",
      " 0.16319444 0.16584967 0.16809478 0.17125416 0.173814   0.1760551\n",
      " 0.1781258  0.18008706 0.18196496 0.18377578 0.1855329  0.18724704\n",
      " 0.1889258  0.19057393 0.19219398 0.19378713 0.19535387 0.19689447\n",
      " 0.19840947 0.19989946 0.20136529 0.20280802 0.204229   0.20562938\n",
      " 0.20701036 0.20837298 0.20971826 0.21104681 0.21235931 0.2136561\n",
      " 0.21493745 0.2162036  0.21745452 0.21869037]\n",
      "2 day output [[0.21991113]]\n",
      "3 day input [0.19444444 0.20200163 0.19771242 0.19934641 0.19873366 0.1997549\n",
      " 0.2128268  0.21568627 0.20445261 0.21772876 0.21098856 0.21425654\n",
      " 0.19750817 0.18811275 0.17851307 0.17381536 0.16033497 0.16564542\n",
      " 0.17116013 0.17422386 0.18035131 0.17401961 0.16278595 0.16973039\n",
      " 0.17810458 0.17034314 0.16830065 0.17279412 0.17544935 0.18382353\n",
      " 0.19138072 0.18913399 0.19097222 0.17238562 0.16830065 0.1693219\n",
      " 0.17177288 0.16156046 0.14971405 0.1503268  0.15196078 0.14726307\n",
      " 0.14501634 0.14603758 0.12479575 0.13112745 0.11397059 0.1190768\n",
      " 0.12377451 0.13562092 0.12908497 0.13459967 0.12806373 0.13031046\n",
      " 0.12724673 0.13521242 0.14522059 0.15257353 0.14848856 0.14338235\n",
      " 0.14562908 0.15236928 0.15400327 0.14971405 0.1621732  0.16319444\n",
      " 0.16584967 0.16809478 0.17125416 0.173814   0.1760551  0.1781258\n",
      " 0.18008706 0.18196496 0.18377578 0.1855329  0.18724704 0.1889258\n",
      " 0.19057393 0.19219398 0.19378713 0.19535387 0.19689447 0.19840947\n",
      " 0.19989946 0.20136529 0.20280802 0.204229   0.20562938 0.20701036\n",
      " 0.20837298 0.20971826 0.21104681 0.21235931 0.2136561  0.21493745\n",
      " 0.2162036  0.21745452 0.21869037 0.21991113]\n",
      "3 day output [[0.22111672]]\n",
      "4 day input [0.20200163 0.19771242 0.19934641 0.19873366 0.1997549  0.2128268\n",
      " 0.21568627 0.20445261 0.21772876 0.21098856 0.21425654 0.19750817\n",
      " 0.18811275 0.17851307 0.17381536 0.16033497 0.16564542 0.17116013\n",
      " 0.17422386 0.18035131 0.17401961 0.16278595 0.16973039 0.17810458\n",
      " 0.17034314 0.16830065 0.17279412 0.17544935 0.18382353 0.19138072\n",
      " 0.18913399 0.19097222 0.17238562 0.16830065 0.1693219  0.17177288\n",
      " 0.16156046 0.14971405 0.1503268  0.15196078 0.14726307 0.14501634\n",
      " 0.14603758 0.12479575 0.13112745 0.11397059 0.1190768  0.12377451\n",
      " 0.13562092 0.12908497 0.13459967 0.12806373 0.13031046 0.12724673\n",
      " 0.13521242 0.14522059 0.15257353 0.14848856 0.14338235 0.14562908\n",
      " 0.15236928 0.15400327 0.14971405 0.1621732  0.16319444 0.16584967\n",
      " 0.16809478 0.17125416 0.173814   0.1760551  0.1781258  0.18008706\n",
      " 0.18196496 0.18377578 0.1855329  0.18724704 0.1889258  0.19057393\n",
      " 0.19219398 0.19378713 0.19535387 0.19689447 0.19840947 0.19989946\n",
      " 0.20136529 0.20280802 0.204229   0.20562938 0.20701036 0.20837298\n",
      " 0.20971826 0.21104681 0.21235931 0.2136561  0.21493745 0.2162036\n",
      " 0.21745452 0.21869037 0.21991113 0.22111672]\n",
      "4 day output [[0.22230732]]\n",
      "5 day input [0.19771242 0.19934641 0.19873366 0.1997549  0.2128268  0.21568627\n",
      " 0.20445261 0.21772876 0.21098856 0.21425654 0.19750817 0.18811275\n",
      " 0.17851307 0.17381536 0.16033497 0.16564542 0.17116013 0.17422386\n",
      " 0.18035131 0.17401961 0.16278595 0.16973039 0.17810458 0.17034314\n",
      " 0.16830065 0.17279412 0.17544935 0.18382353 0.19138072 0.18913399\n",
      " 0.19097222 0.17238562 0.16830065 0.1693219  0.17177288 0.16156046\n",
      " 0.14971405 0.1503268  0.15196078 0.14726307 0.14501634 0.14603758\n",
      " 0.12479575 0.13112745 0.11397059 0.1190768  0.12377451 0.13562092\n",
      " 0.12908497 0.13459967 0.12806373 0.13031046 0.12724673 0.13521242\n",
      " 0.14522059 0.15257353 0.14848856 0.14338235 0.14562908 0.15236928\n",
      " 0.15400327 0.14971405 0.1621732  0.16319444 0.16584967 0.16809478\n",
      " 0.17125416 0.173814   0.1760551  0.1781258  0.18008706 0.18196496\n",
      " 0.18377578 0.1855329  0.18724704 0.1889258  0.19057393 0.19219398\n",
      " 0.19378713 0.19535387 0.19689447 0.19840947 0.19989946 0.20136529\n",
      " 0.20280802 0.204229   0.20562938 0.20701036 0.20837298 0.20971826\n",
      " 0.21104681 0.21235931 0.2136561  0.21493745 0.2162036  0.21745452\n",
      " 0.21869037 0.21991113 0.22111672 0.22230732]\n",
      "5 day output [[0.22348282]]\n",
      "6 day input [0.19934641 0.19873366 0.1997549  0.2128268  0.21568627 0.20445261\n",
      " 0.21772876 0.21098856 0.21425654 0.19750817 0.18811275 0.17851307\n",
      " 0.17381536 0.16033497 0.16564542 0.17116013 0.17422386 0.18035131\n",
      " 0.17401961 0.16278595 0.16973039 0.17810458 0.17034314 0.16830065\n",
      " 0.17279412 0.17544935 0.18382353 0.19138072 0.18913399 0.19097222\n",
      " 0.17238562 0.16830065 0.1693219  0.17177288 0.16156046 0.14971405\n",
      " 0.1503268  0.15196078 0.14726307 0.14501634 0.14603758 0.12479575\n",
      " 0.13112745 0.11397059 0.1190768  0.12377451 0.13562092 0.12908497\n",
      " 0.13459967 0.12806373 0.13031046 0.12724673 0.13521242 0.14522059\n",
      " 0.15257353 0.14848856 0.14338235 0.14562908 0.15236928 0.15400327\n",
      " 0.14971405 0.1621732  0.16319444 0.16584967 0.16809478 0.17125416\n",
      " 0.173814   0.1760551  0.1781258  0.18008706 0.18196496 0.18377578\n",
      " 0.1855329  0.18724704 0.1889258  0.19057393 0.19219398 0.19378713\n",
      " 0.19535387 0.19689447 0.19840947 0.19989946 0.20136529 0.20280802\n",
      " 0.204229   0.20562938 0.20701036 0.20837298 0.20971826 0.21104681\n",
      " 0.21235931 0.2136561  0.21493745 0.2162036  0.21745452 0.21869037\n",
      " 0.21991113 0.22111672 0.22230732 0.22348282]\n",
      "6 day output [[0.22464323]]\n",
      "7 day input [0.19873366 0.1997549  0.2128268  0.21568627 0.20445261 0.21772876\n",
      " 0.21098856 0.21425654 0.19750817 0.18811275 0.17851307 0.17381536\n",
      " 0.16033497 0.16564542 0.17116013 0.17422386 0.18035131 0.17401961\n",
      " 0.16278595 0.16973039 0.17810458 0.17034314 0.16830065 0.17279412\n",
      " 0.17544935 0.18382353 0.19138072 0.18913399 0.19097222 0.17238562\n",
      " 0.16830065 0.1693219  0.17177288 0.16156046 0.14971405 0.1503268\n",
      " 0.15196078 0.14726307 0.14501634 0.14603758 0.12479575 0.13112745\n",
      " 0.11397059 0.1190768  0.12377451 0.13562092 0.12908497 0.13459967\n",
      " 0.12806373 0.13031046 0.12724673 0.13521242 0.14522059 0.15257353\n",
      " 0.14848856 0.14338235 0.14562908 0.15236928 0.15400327 0.14971405\n",
      " 0.1621732  0.16319444 0.16584967 0.16809478 0.17125416 0.173814\n",
      " 0.1760551  0.1781258  0.18008706 0.18196496 0.18377578 0.1855329\n",
      " 0.18724704 0.1889258  0.19057393 0.19219398 0.19378713 0.19535387\n",
      " 0.19689447 0.19840947 0.19989946 0.20136529 0.20280802 0.204229\n",
      " 0.20562938 0.20701036 0.20837298 0.20971826 0.21104681 0.21235931\n",
      " 0.2136561  0.21493745 0.2162036  0.21745452 0.21869037 0.21991113\n",
      " 0.22111672 0.22230732 0.22348282 0.22464323]\n",
      "7 day output [[0.22578868]]\n",
      "8 day input [0.1997549  0.2128268  0.21568627 0.20445261 0.21772876 0.21098856\n",
      " 0.21425654 0.19750817 0.18811275 0.17851307 0.17381536 0.16033497\n",
      " 0.16564542 0.17116013 0.17422386 0.18035131 0.17401961 0.16278595\n",
      " 0.16973039 0.17810458 0.17034314 0.16830065 0.17279412 0.17544935\n",
      " 0.18382353 0.19138072 0.18913399 0.19097222 0.17238562 0.16830065\n",
      " 0.1693219  0.17177288 0.16156046 0.14971405 0.1503268  0.15196078\n",
      " 0.14726307 0.14501634 0.14603758 0.12479575 0.13112745 0.11397059\n",
      " 0.1190768  0.12377451 0.13562092 0.12908497 0.13459967 0.12806373\n",
      " 0.13031046 0.12724673 0.13521242 0.14522059 0.15257353 0.14848856\n",
      " 0.14338235 0.14562908 0.15236928 0.15400327 0.14971405 0.1621732\n",
      " 0.16319444 0.16584967 0.16809478 0.17125416 0.173814   0.1760551\n",
      " 0.1781258  0.18008706 0.18196496 0.18377578 0.1855329  0.18724704\n",
      " 0.1889258  0.19057393 0.19219398 0.19378713 0.19535387 0.19689447\n",
      " 0.19840947 0.19989946 0.20136529 0.20280802 0.204229   0.20562938\n",
      " 0.20701036 0.20837298 0.20971826 0.21104681 0.21235931 0.2136561\n",
      " 0.21493745 0.2162036  0.21745452 0.21869037 0.21991113 0.22111672\n",
      " 0.22230732 0.22348282 0.22464323 0.22578868]\n"
     ]
    },
    {
     "name": "stdout",
     "output_type": "stream",
     "text": [
      "8 day output [[0.22691923]]\n",
      "9 day input [0.2128268  0.21568627 0.20445261 0.21772876 0.21098856 0.21425654\n",
      " 0.19750817 0.18811275 0.17851307 0.17381536 0.16033497 0.16564542\n",
      " 0.17116013 0.17422386 0.18035131 0.17401961 0.16278595 0.16973039\n",
      " 0.17810458 0.17034314 0.16830065 0.17279412 0.17544935 0.18382353\n",
      " 0.19138072 0.18913399 0.19097222 0.17238562 0.16830065 0.1693219\n",
      " 0.17177288 0.16156046 0.14971405 0.1503268  0.15196078 0.14726307\n",
      " 0.14501634 0.14603758 0.12479575 0.13112745 0.11397059 0.1190768\n",
      " 0.12377451 0.13562092 0.12908497 0.13459967 0.12806373 0.13031046\n",
      " 0.12724673 0.13521242 0.14522059 0.15257353 0.14848856 0.14338235\n",
      " 0.14562908 0.15236928 0.15400327 0.14971405 0.1621732  0.16319444\n",
      " 0.16584967 0.16809478 0.17125416 0.173814   0.1760551  0.1781258\n",
      " 0.18008706 0.18196496 0.18377578 0.1855329  0.18724704 0.1889258\n",
      " 0.19057393 0.19219398 0.19378713 0.19535387 0.19689447 0.19840947\n",
      " 0.19989946 0.20136529 0.20280802 0.204229   0.20562938 0.20701036\n",
      " 0.20837298 0.20971826 0.21104681 0.21235931 0.2136561  0.21493745\n",
      " 0.2162036  0.21745452 0.21869037 0.21991113 0.22111672 0.22230732\n",
      " 0.22348282 0.22464323 0.22578868 0.22691923]\n",
      "9 day output [[0.22803503]]\n",
      "10 day input [0.21568627 0.20445261 0.21772876 0.21098856 0.21425654 0.19750817\n",
      " 0.18811275 0.17851307 0.17381536 0.16033497 0.16564542 0.17116013\n",
      " 0.17422386 0.18035131 0.17401961 0.16278595 0.16973039 0.17810458\n",
      " 0.17034314 0.16830065 0.17279412 0.17544935 0.18382353 0.19138072\n",
      " 0.18913399 0.19097222 0.17238562 0.16830065 0.1693219  0.17177288\n",
      " 0.16156046 0.14971405 0.1503268  0.15196078 0.14726307 0.14501634\n",
      " 0.14603758 0.12479575 0.13112745 0.11397059 0.1190768  0.12377451\n",
      " 0.13562092 0.12908497 0.13459967 0.12806373 0.13031046 0.12724673\n",
      " 0.13521242 0.14522059 0.15257353 0.14848856 0.14338235 0.14562908\n",
      " 0.15236928 0.15400327 0.14971405 0.1621732  0.16319444 0.16584967\n",
      " 0.16809478 0.17125416 0.173814   0.1760551  0.1781258  0.18008706\n",
      " 0.18196496 0.18377578 0.1855329  0.18724704 0.1889258  0.19057393\n",
      " 0.19219398 0.19378713 0.19535387 0.19689447 0.19840947 0.19989946\n",
      " 0.20136529 0.20280802 0.204229   0.20562938 0.20701036 0.20837298\n",
      " 0.20971826 0.21104681 0.21235931 0.2136561  0.21493745 0.2162036\n",
      " 0.21745452 0.21869037 0.21991113 0.22111672 0.22230732 0.22348282\n",
      " 0.22464323 0.22578868 0.22691923 0.22803503]\n",
      "10 day output [[0.22913614]]\n",
      "11 day input [0.20445261 0.21772876 0.21098856 0.21425654 0.19750817 0.18811275\n",
      " 0.17851307 0.17381536 0.16033497 0.16564542 0.17116013 0.17422386\n",
      " 0.18035131 0.17401961 0.16278595 0.16973039 0.17810458 0.17034314\n",
      " 0.16830065 0.17279412 0.17544935 0.18382353 0.19138072 0.18913399\n",
      " 0.19097222 0.17238562 0.16830065 0.1693219  0.17177288 0.16156046\n",
      " 0.14971405 0.1503268  0.15196078 0.14726307 0.14501634 0.14603758\n",
      " 0.12479575 0.13112745 0.11397059 0.1190768  0.12377451 0.13562092\n",
      " 0.12908497 0.13459967 0.12806373 0.13031046 0.12724673 0.13521242\n",
      " 0.14522059 0.15257353 0.14848856 0.14338235 0.14562908 0.15236928\n",
      " 0.15400327 0.14971405 0.1621732  0.16319444 0.16584967 0.16809478\n",
      " 0.17125416 0.173814   0.1760551  0.1781258  0.18008706 0.18196496\n",
      " 0.18377578 0.1855329  0.18724704 0.1889258  0.19057393 0.19219398\n",
      " 0.19378713 0.19535387 0.19689447 0.19840947 0.19989946 0.20136529\n",
      " 0.20280802 0.204229   0.20562938 0.20701036 0.20837298 0.20971826\n",
      " 0.21104681 0.21235931 0.2136561  0.21493745 0.2162036  0.21745452\n",
      " 0.21869037 0.21991113 0.22111672 0.22230732 0.22348282 0.22464323\n",
      " 0.22578868 0.22691923 0.22803503 0.22913614]\n",
      "11 day output [[0.23022267]]\n",
      "12 day input [0.21772876 0.21098856 0.21425654 0.19750817 0.18811275 0.17851307\n",
      " 0.17381536 0.16033497 0.16564542 0.17116013 0.17422386 0.18035131\n",
      " 0.17401961 0.16278595 0.16973039 0.17810458 0.17034314 0.16830065\n",
      " 0.17279412 0.17544935 0.18382353 0.19138072 0.18913399 0.19097222\n",
      " 0.17238562 0.16830065 0.1693219  0.17177288 0.16156046 0.14971405\n",
      " 0.1503268  0.15196078 0.14726307 0.14501634 0.14603758 0.12479575\n",
      " 0.13112745 0.11397059 0.1190768  0.12377451 0.13562092 0.12908497\n",
      " 0.13459967 0.12806373 0.13031046 0.12724673 0.13521242 0.14522059\n",
      " 0.15257353 0.14848856 0.14338235 0.14562908 0.15236928 0.15400327\n",
      " 0.14971405 0.1621732  0.16319444 0.16584967 0.16809478 0.17125416\n",
      " 0.173814   0.1760551  0.1781258  0.18008706 0.18196496 0.18377578\n",
      " 0.1855329  0.18724704 0.1889258  0.19057393 0.19219398 0.19378713\n",
      " 0.19535387 0.19689447 0.19840947 0.19989946 0.20136529 0.20280802\n",
      " 0.204229   0.20562938 0.20701036 0.20837298 0.20971826 0.21104681\n",
      " 0.21235931 0.2136561  0.21493745 0.2162036  0.21745452 0.21869037\n",
      " 0.21991113 0.22111672 0.22230732 0.22348282 0.22464323 0.22578868\n",
      " 0.22691923 0.22803503 0.22913614 0.23022267]\n",
      "12 day output [[0.23129478]]\n",
      "13 day input [0.21098856 0.21425654 0.19750817 0.18811275 0.17851307 0.17381536\n",
      " 0.16033497 0.16564542 0.17116013 0.17422386 0.18035131 0.17401961\n",
      " 0.16278595 0.16973039 0.17810458 0.17034314 0.16830065 0.17279412\n",
      " 0.17544935 0.18382353 0.19138072 0.18913399 0.19097222 0.17238562\n",
      " 0.16830065 0.1693219  0.17177288 0.16156046 0.14971405 0.1503268\n",
      " 0.15196078 0.14726307 0.14501634 0.14603758 0.12479575 0.13112745\n",
      " 0.11397059 0.1190768  0.12377451 0.13562092 0.12908497 0.13459967\n",
      " 0.12806373 0.13031046 0.12724673 0.13521242 0.14522059 0.15257353\n",
      " 0.14848856 0.14338235 0.14562908 0.15236928 0.15400327 0.14971405\n",
      " 0.1621732  0.16319444 0.16584967 0.16809478 0.17125416 0.173814\n",
      " 0.1760551  0.1781258  0.18008706 0.18196496 0.18377578 0.1855329\n",
      " 0.18724704 0.1889258  0.19057393 0.19219398 0.19378713 0.19535387\n",
      " 0.19689447 0.19840947 0.19989946 0.20136529 0.20280802 0.204229\n",
      " 0.20562938 0.20701036 0.20837298 0.20971826 0.21104681 0.21235931\n",
      " 0.2136561  0.21493745 0.2162036  0.21745452 0.21869037 0.21991113\n",
      " 0.22111672 0.22230732 0.22348282 0.22464323 0.22578868 0.22691923\n",
      " 0.22803503 0.22913614 0.23022267 0.23129478]\n",
      "13 day output [[0.23235261]]\n",
      "14 day input [0.21425654 0.19750817 0.18811275 0.17851307 0.17381536 0.16033497\n",
      " 0.16564542 0.17116013 0.17422386 0.18035131 0.17401961 0.16278595\n",
      " 0.16973039 0.17810458 0.17034314 0.16830065 0.17279412 0.17544935\n",
      " 0.18382353 0.19138072 0.18913399 0.19097222 0.17238562 0.16830065\n",
      " 0.1693219  0.17177288 0.16156046 0.14971405 0.1503268  0.15196078\n",
      " 0.14726307 0.14501634 0.14603758 0.12479575 0.13112745 0.11397059\n",
      " 0.1190768  0.12377451 0.13562092 0.12908497 0.13459967 0.12806373\n",
      " 0.13031046 0.12724673 0.13521242 0.14522059 0.15257353 0.14848856\n",
      " 0.14338235 0.14562908 0.15236928 0.15400327 0.14971405 0.1621732\n",
      " 0.16319444 0.16584967 0.16809478 0.17125416 0.173814   0.1760551\n",
      " 0.1781258  0.18008706 0.18196496 0.18377578 0.1855329  0.18724704\n",
      " 0.1889258  0.19057393 0.19219398 0.19378713 0.19535387 0.19689447\n",
      " 0.19840947 0.19989946 0.20136529 0.20280802 0.204229   0.20562938\n",
      " 0.20701036 0.20837298 0.20971826 0.21104681 0.21235931 0.2136561\n",
      " 0.21493745 0.2162036  0.21745452 0.21869037 0.21991113 0.22111672\n",
      " 0.22230732 0.22348282 0.22464323 0.22578868 0.22691923 0.22803503\n",
      " 0.22913614 0.23022267 0.23129478 0.23235261]\n",
      "14 day output [[0.23339638]]\n",
      "15 day input [0.19750817 0.18811275 0.17851307 0.17381536 0.16033497 0.16564542\n",
      " 0.17116013 0.17422386 0.18035131 0.17401961 0.16278595 0.16973039\n",
      " 0.17810458 0.17034314 0.16830065 0.17279412 0.17544935 0.18382353\n",
      " 0.19138072 0.18913399 0.19097222 0.17238562 0.16830065 0.1693219\n",
      " 0.17177288 0.16156046 0.14971405 0.1503268  0.15196078 0.14726307\n",
      " 0.14501634 0.14603758 0.12479575 0.13112745 0.11397059 0.1190768\n",
      " 0.12377451 0.13562092 0.12908497 0.13459967 0.12806373 0.13031046\n",
      " 0.12724673 0.13521242 0.14522059 0.15257353 0.14848856 0.14338235\n",
      " 0.14562908 0.15236928 0.15400327 0.14971405 0.1621732  0.16319444\n",
      " 0.16584967 0.16809478 0.17125416 0.173814   0.1760551  0.1781258\n",
      " 0.18008706 0.18196496 0.18377578 0.1855329  0.18724704 0.1889258\n",
      " 0.19057393 0.19219398 0.19378713 0.19535387 0.19689447 0.19840947\n",
      " 0.19989946 0.20136529 0.20280802 0.204229   0.20562938 0.20701036\n",
      " 0.20837298 0.20971826 0.21104681 0.21235931 0.2136561  0.21493745\n",
      " 0.2162036  0.21745452 0.21869037 0.21991113 0.22111672 0.22230732\n",
      " 0.22348282 0.22464323 0.22578868 0.22691923 0.22803503 0.22913614\n",
      " 0.23022267 0.23129478 0.23235261 0.23339638]\n",
      "15 day output [[0.2344262]]\n",
      "16 day input [0.18811275 0.17851307 0.17381536 0.16033497 0.16564542 0.17116013\n",
      " 0.17422386 0.18035131 0.17401961 0.16278595 0.16973039 0.17810458\n",
      " 0.17034314 0.16830065 0.17279412 0.17544935 0.18382353 0.19138072\n",
      " 0.18913399 0.19097222 0.17238562 0.16830065 0.1693219  0.17177288\n",
      " 0.16156046 0.14971405 0.1503268  0.15196078 0.14726307 0.14501634\n",
      " 0.14603758 0.12479575 0.13112745 0.11397059 0.1190768  0.12377451\n",
      " 0.13562092 0.12908497 0.13459967 0.12806373 0.13031046 0.12724673\n",
      " 0.13521242 0.14522059 0.15257353 0.14848856 0.14338235 0.14562908\n",
      " 0.15236928 0.15400327 0.14971405 0.1621732  0.16319444 0.16584967\n",
      " 0.16809478 0.17125416 0.173814   0.1760551  0.1781258  0.18008706\n",
      " 0.18196496 0.18377578 0.1855329  0.18724704 0.1889258  0.19057393\n",
      " 0.19219398 0.19378713 0.19535387 0.19689447 0.19840947 0.19989946\n",
      " 0.20136529 0.20280802 0.204229   0.20562938 0.20701036 0.20837298\n",
      " 0.20971826 0.21104681 0.21235931 0.2136561  0.21493745 0.2162036\n",
      " 0.21745452 0.21869037 0.21991113 0.22111672 0.22230732 0.22348282\n",
      " 0.22464323 0.22578868 0.22691923 0.22803503 0.22913614 0.23022267\n",
      " 0.23129478 0.23235261 0.23339638 0.2344262 ]\n"
     ]
    },
    {
     "name": "stdout",
     "output_type": "stream",
     "text": [
      "16 day output [[0.23544228]]\n",
      "17 day input [0.17851307 0.17381536 0.16033497 0.16564542 0.17116013 0.17422386\n",
      " 0.18035131 0.17401961 0.16278595 0.16973039 0.17810458 0.17034314\n",
      " 0.16830065 0.17279412 0.17544935 0.18382353 0.19138072 0.18913399\n",
      " 0.19097222 0.17238562 0.16830065 0.1693219  0.17177288 0.16156046\n",
      " 0.14971405 0.1503268  0.15196078 0.14726307 0.14501634 0.14603758\n",
      " 0.12479575 0.13112745 0.11397059 0.1190768  0.12377451 0.13562092\n",
      " 0.12908497 0.13459967 0.12806373 0.13031046 0.12724673 0.13521242\n",
      " 0.14522059 0.15257353 0.14848856 0.14338235 0.14562908 0.15236928\n",
      " 0.15400327 0.14971405 0.1621732  0.16319444 0.16584967 0.16809478\n",
      " 0.17125416 0.173814   0.1760551  0.1781258  0.18008706 0.18196496\n",
      " 0.18377578 0.1855329  0.18724704 0.1889258  0.19057393 0.19219398\n",
      " 0.19378713 0.19535387 0.19689447 0.19840947 0.19989946 0.20136529\n",
      " 0.20280802 0.204229   0.20562938 0.20701036 0.20837298 0.20971826\n",
      " 0.21104681 0.21235931 0.2136561  0.21493745 0.2162036  0.21745452\n",
      " 0.21869037 0.21991113 0.22111672 0.22230732 0.22348282 0.22464323\n",
      " 0.22578868 0.22691923 0.22803503 0.22913614 0.23022267 0.23129478\n",
      " 0.23235261 0.23339638 0.2344262  0.23544228]\n",
      "17 day output [[0.23644474]]\n",
      "18 day input [0.17381536 0.16033497 0.16564542 0.17116013 0.17422386 0.18035131\n",
      " 0.17401961 0.16278595 0.16973039 0.17810458 0.17034314 0.16830065\n",
      " 0.17279412 0.17544935 0.18382353 0.19138072 0.18913399 0.19097222\n",
      " 0.17238562 0.16830065 0.1693219  0.17177288 0.16156046 0.14971405\n",
      " 0.1503268  0.15196078 0.14726307 0.14501634 0.14603758 0.12479575\n",
      " 0.13112745 0.11397059 0.1190768  0.12377451 0.13562092 0.12908497\n",
      " 0.13459967 0.12806373 0.13031046 0.12724673 0.13521242 0.14522059\n",
      " 0.15257353 0.14848856 0.14338235 0.14562908 0.15236928 0.15400327\n",
      " 0.14971405 0.1621732  0.16319444 0.16584967 0.16809478 0.17125416\n",
      " 0.173814   0.1760551  0.1781258  0.18008706 0.18196496 0.18377578\n",
      " 0.1855329  0.18724704 0.1889258  0.19057393 0.19219398 0.19378713\n",
      " 0.19535387 0.19689447 0.19840947 0.19989946 0.20136529 0.20280802\n",
      " 0.204229   0.20562938 0.20701036 0.20837298 0.20971826 0.21104681\n",
      " 0.21235931 0.2136561  0.21493745 0.2162036  0.21745452 0.21869037\n",
      " 0.21991113 0.22111672 0.22230732 0.22348282 0.22464323 0.22578868\n",
      " 0.22691923 0.22803503 0.22913614 0.23022267 0.23129478 0.23235261\n",
      " 0.23339638 0.2344262  0.23544228 0.23644474]\n",
      "18 day output [[0.23743391]]\n",
      "19 day input [0.16033497 0.16564542 0.17116013 0.17422386 0.18035131 0.17401961\n",
      " 0.16278595 0.16973039 0.17810458 0.17034314 0.16830065 0.17279412\n",
      " 0.17544935 0.18382353 0.19138072 0.18913399 0.19097222 0.17238562\n",
      " 0.16830065 0.1693219  0.17177288 0.16156046 0.14971405 0.1503268\n",
      " 0.15196078 0.14726307 0.14501634 0.14603758 0.12479575 0.13112745\n",
      " 0.11397059 0.1190768  0.12377451 0.13562092 0.12908497 0.13459967\n",
      " 0.12806373 0.13031046 0.12724673 0.13521242 0.14522059 0.15257353\n",
      " 0.14848856 0.14338235 0.14562908 0.15236928 0.15400327 0.14971405\n",
      " 0.1621732  0.16319444 0.16584967 0.16809478 0.17125416 0.173814\n",
      " 0.1760551  0.1781258  0.18008706 0.18196496 0.18377578 0.1855329\n",
      " 0.18724704 0.1889258  0.19057393 0.19219398 0.19378713 0.19535387\n",
      " 0.19689447 0.19840947 0.19989946 0.20136529 0.20280802 0.204229\n",
      " 0.20562938 0.20701036 0.20837298 0.20971826 0.21104681 0.21235931\n",
      " 0.2136561  0.21493745 0.2162036  0.21745452 0.21869037 0.21991113\n",
      " 0.22111672 0.22230732 0.22348282 0.22464323 0.22578868 0.22691923\n",
      " 0.22803503 0.22913614 0.23022267 0.23129478 0.23235261 0.23339638\n",
      " 0.2344262  0.23544228 0.23644474 0.23743391]\n",
      "19 day output [[0.23840985]]\n",
      "20 day input [0.16564542 0.17116013 0.17422386 0.18035131 0.17401961 0.16278595\n",
      " 0.16973039 0.17810458 0.17034314 0.16830065 0.17279412 0.17544935\n",
      " 0.18382353 0.19138072 0.18913399 0.19097222 0.17238562 0.16830065\n",
      " 0.1693219  0.17177288 0.16156046 0.14971405 0.1503268  0.15196078\n",
      " 0.14726307 0.14501634 0.14603758 0.12479575 0.13112745 0.11397059\n",
      " 0.1190768  0.12377451 0.13562092 0.12908497 0.13459967 0.12806373\n",
      " 0.13031046 0.12724673 0.13521242 0.14522059 0.15257353 0.14848856\n",
      " 0.14338235 0.14562908 0.15236928 0.15400327 0.14971405 0.1621732\n",
      " 0.16319444 0.16584967 0.16809478 0.17125416 0.173814   0.1760551\n",
      " 0.1781258  0.18008706 0.18196496 0.18377578 0.1855329  0.18724704\n",
      " 0.1889258  0.19057393 0.19219398 0.19378713 0.19535387 0.19689447\n",
      " 0.19840947 0.19989946 0.20136529 0.20280802 0.204229   0.20562938\n",
      " 0.20701036 0.20837298 0.20971826 0.21104681 0.21235931 0.2136561\n",
      " 0.21493745 0.2162036  0.21745452 0.21869037 0.21991113 0.22111672\n",
      " 0.22230732 0.22348282 0.22464323 0.22578868 0.22691923 0.22803503\n",
      " 0.22913614 0.23022267 0.23129478 0.23235261 0.23339638 0.2344262\n",
      " 0.23544228 0.23644474 0.23743391 0.23840985]\n",
      "20 day output [[0.23937276]]\n",
      "21 day input [0.17116013 0.17422386 0.18035131 0.17401961 0.16278595 0.16973039\n",
      " 0.17810458 0.17034314 0.16830065 0.17279412 0.17544935 0.18382353\n",
      " 0.19138072 0.18913399 0.19097222 0.17238562 0.16830065 0.1693219\n",
      " 0.17177288 0.16156046 0.14971405 0.1503268  0.15196078 0.14726307\n",
      " 0.14501634 0.14603758 0.12479575 0.13112745 0.11397059 0.1190768\n",
      " 0.12377451 0.13562092 0.12908497 0.13459967 0.12806373 0.13031046\n",
      " 0.12724673 0.13521242 0.14522059 0.15257353 0.14848856 0.14338235\n",
      " 0.14562908 0.15236928 0.15400327 0.14971405 0.1621732  0.16319444\n",
      " 0.16584967 0.16809478 0.17125416 0.173814   0.1760551  0.1781258\n",
      " 0.18008706 0.18196496 0.18377578 0.1855329  0.18724704 0.1889258\n",
      " 0.19057393 0.19219398 0.19378713 0.19535387 0.19689447 0.19840947\n",
      " 0.19989946 0.20136529 0.20280802 0.204229   0.20562938 0.20701036\n",
      " 0.20837298 0.20971826 0.21104681 0.21235931 0.2136561  0.21493745\n",
      " 0.2162036  0.21745452 0.21869037 0.21991113 0.22111672 0.22230732\n",
      " 0.22348282 0.22464323 0.22578868 0.22691923 0.22803503 0.22913614\n",
      " 0.23022267 0.23129478 0.23235261 0.23339638 0.2344262  0.23544228\n",
      " 0.23644474 0.23743391 0.23840985 0.23937276]\n",
      "21 day output [[0.24032292]]\n",
      "22 day input [0.17422386 0.18035131 0.17401961 0.16278595 0.16973039 0.17810458\n",
      " 0.17034314 0.16830065 0.17279412 0.17544935 0.18382353 0.19138072\n",
      " 0.18913399 0.19097222 0.17238562 0.16830065 0.1693219  0.17177288\n",
      " 0.16156046 0.14971405 0.1503268  0.15196078 0.14726307 0.14501634\n",
      " 0.14603758 0.12479575 0.13112745 0.11397059 0.1190768  0.12377451\n",
      " 0.13562092 0.12908497 0.13459967 0.12806373 0.13031046 0.12724673\n",
      " 0.13521242 0.14522059 0.15257353 0.14848856 0.14338235 0.14562908\n",
      " 0.15236928 0.15400327 0.14971405 0.1621732  0.16319444 0.16584967\n",
      " 0.16809478 0.17125416 0.173814   0.1760551  0.1781258  0.18008706\n",
      " 0.18196496 0.18377578 0.1855329  0.18724704 0.1889258  0.19057393\n",
      " 0.19219398 0.19378713 0.19535387 0.19689447 0.19840947 0.19989946\n",
      " 0.20136529 0.20280802 0.204229   0.20562938 0.20701036 0.20837298\n",
      " 0.20971826 0.21104681 0.21235931 0.2136561  0.21493745 0.2162036\n",
      " 0.21745452 0.21869037 0.21991113 0.22111672 0.22230732 0.22348282\n",
      " 0.22464323 0.22578868 0.22691923 0.22803503 0.22913614 0.23022267\n",
      " 0.23129478 0.23235261 0.23339638 0.2344262  0.23544228 0.23644474\n",
      " 0.23743391 0.23840985 0.23937276 0.24032292]\n",
      "22 day output [[0.24126047]]\n",
      "23 day input [0.18035131 0.17401961 0.16278595 0.16973039 0.17810458 0.17034314\n",
      " 0.16830065 0.17279412 0.17544935 0.18382353 0.19138072 0.18913399\n",
      " 0.19097222 0.17238562 0.16830065 0.1693219  0.17177288 0.16156046\n",
      " 0.14971405 0.1503268  0.15196078 0.14726307 0.14501634 0.14603758\n",
      " 0.12479575 0.13112745 0.11397059 0.1190768  0.12377451 0.13562092\n",
      " 0.12908497 0.13459967 0.12806373 0.13031046 0.12724673 0.13521242\n",
      " 0.14522059 0.15257353 0.14848856 0.14338235 0.14562908 0.15236928\n",
      " 0.15400327 0.14971405 0.1621732  0.16319444 0.16584967 0.16809478\n",
      " 0.17125416 0.173814   0.1760551  0.1781258  0.18008706 0.18196496\n",
      " 0.18377578 0.1855329  0.18724704 0.1889258  0.19057393 0.19219398\n",
      " 0.19378713 0.19535387 0.19689447 0.19840947 0.19989946 0.20136529\n",
      " 0.20280802 0.204229   0.20562938 0.20701036 0.20837298 0.20971826\n",
      " 0.21104681 0.21235931 0.2136561  0.21493745 0.2162036  0.21745452\n",
      " 0.21869037 0.21991113 0.22111672 0.22230732 0.22348282 0.22464323\n",
      " 0.22578868 0.22691923 0.22803503 0.22913614 0.23022267 0.23129478\n",
      " 0.23235261 0.23339638 0.2344262  0.23544228 0.23644474 0.23743391\n",
      " 0.23840985 0.23937276 0.24032292 0.24126047]\n",
      "23 day output [[0.2421856]]\n",
      "24 day input [0.17401961 0.16278595 0.16973039 0.17810458 0.17034314 0.16830065\n",
      " 0.17279412 0.17544935 0.18382353 0.19138072 0.18913399 0.19097222\n",
      " 0.17238562 0.16830065 0.1693219  0.17177288 0.16156046 0.14971405\n",
      " 0.1503268  0.15196078 0.14726307 0.14501634 0.14603758 0.12479575\n",
      " 0.13112745 0.11397059 0.1190768  0.12377451 0.13562092 0.12908497\n",
      " 0.13459967 0.12806373 0.13031046 0.12724673 0.13521242 0.14522059\n",
      " 0.15257353 0.14848856 0.14338235 0.14562908 0.15236928 0.15400327\n",
      " 0.14971405 0.1621732  0.16319444 0.16584967 0.16809478 0.17125416\n",
      " 0.173814   0.1760551  0.1781258  0.18008706 0.18196496 0.18377578\n",
      " 0.1855329  0.18724704 0.1889258  0.19057393 0.19219398 0.19378713\n",
      " 0.19535387 0.19689447 0.19840947 0.19989946 0.20136529 0.20280802\n",
      " 0.204229   0.20562938 0.20701036 0.20837298 0.20971826 0.21104681\n",
      " 0.21235931 0.2136561  0.21493745 0.2162036  0.21745452 0.21869037\n",
      " 0.21991113 0.22111672 0.22230732 0.22348282 0.22464323 0.22578868\n",
      " 0.22691923 0.22803503 0.22913614 0.23022267 0.23129478 0.23235261\n",
      " 0.23339638 0.2344262  0.23544228 0.23644474 0.23743391 0.23840985\n",
      " 0.23937276 0.24032292 0.24126047 0.24218559]\n",
      "24 day output [[0.24309862]]\n",
      "25 day input [0.16278595 0.16973039 0.17810458 0.17034314 0.16830065 0.17279412\n",
      " 0.17544935 0.18382353 0.19138072 0.18913399 0.19097222 0.17238562\n",
      " 0.16830065 0.1693219  0.17177288 0.16156046 0.14971405 0.1503268\n",
      " 0.15196078 0.14726307 0.14501634 0.14603758 0.12479575 0.13112745\n",
      " 0.11397059 0.1190768  0.12377451 0.13562092 0.12908497 0.13459967\n",
      " 0.12806373 0.13031046 0.12724673 0.13521242 0.14522059 0.15257353\n",
      " 0.14848856 0.14338235 0.14562908 0.15236928 0.15400327 0.14971405\n",
      " 0.1621732  0.16319444 0.16584967 0.16809478 0.17125416 0.173814\n",
      " 0.1760551  0.1781258  0.18008706 0.18196496 0.18377578 0.1855329\n",
      " 0.18724704 0.1889258  0.19057393 0.19219398 0.19378713 0.19535387\n",
      " 0.19689447 0.19840947 0.19989946 0.20136529 0.20280802 0.204229\n",
      " 0.20562938 0.20701036 0.20837298 0.20971826 0.21104681 0.21235931\n",
      " 0.2136561  0.21493745 0.2162036  0.21745452 0.21869037 0.21991113\n",
      " 0.22111672 0.22230732 0.22348282 0.22464323 0.22578868 0.22691923\n",
      " 0.22803503 0.22913614 0.23022267 0.23129478 0.23235261 0.23339638\n",
      " 0.2344262  0.23544228 0.23644474 0.23743391 0.23840985 0.23937276\n",
      " 0.24032292 0.24126047 0.24218559 0.24309862]\n"
     ]
    },
    {
     "name": "stdout",
     "output_type": "stream",
     "text": [
      "25 day output [[0.24399954]]\n",
      "26 day input [0.16973039 0.17810458 0.17034314 0.16830065 0.17279412 0.17544935\n",
      " 0.18382353 0.19138072 0.18913399 0.19097222 0.17238562 0.16830065\n",
      " 0.1693219  0.17177288 0.16156046 0.14971405 0.1503268  0.15196078\n",
      " 0.14726307 0.14501634 0.14603758 0.12479575 0.13112745 0.11397059\n",
      " 0.1190768  0.12377451 0.13562092 0.12908497 0.13459967 0.12806373\n",
      " 0.13031046 0.12724673 0.13521242 0.14522059 0.15257353 0.14848856\n",
      " 0.14338235 0.14562908 0.15236928 0.15400327 0.14971405 0.1621732\n",
      " 0.16319444 0.16584967 0.16809478 0.17125416 0.173814   0.1760551\n",
      " 0.1781258  0.18008706 0.18196496 0.18377578 0.1855329  0.18724704\n",
      " 0.1889258  0.19057393 0.19219398 0.19378713 0.19535387 0.19689447\n",
      " 0.19840947 0.19989946 0.20136529 0.20280802 0.204229   0.20562938\n",
      " 0.20701036 0.20837298 0.20971826 0.21104681 0.21235931 0.2136561\n",
      " 0.21493745 0.2162036  0.21745452 0.21869037 0.21991113 0.22111672\n",
      " 0.22230732 0.22348282 0.22464323 0.22578868 0.22691923 0.22803503\n",
      " 0.22913614 0.23022267 0.23129478 0.23235261 0.23339638 0.2344262\n",
      " 0.23544228 0.23644474 0.23743391 0.23840985 0.23937276 0.24032292\n",
      " 0.24126047 0.24218559 0.24309862 0.24399954]\n",
      "26 day output [[0.2448887]]\n",
      "27 day input [0.17810458 0.17034314 0.16830065 0.17279412 0.17544935 0.18382353\n",
      " 0.19138072 0.18913399 0.19097222 0.17238562 0.16830065 0.1693219\n",
      " 0.17177288 0.16156046 0.14971405 0.1503268  0.15196078 0.14726307\n",
      " 0.14501634 0.14603758 0.12479575 0.13112745 0.11397059 0.1190768\n",
      " 0.12377451 0.13562092 0.12908497 0.13459967 0.12806373 0.13031046\n",
      " 0.12724673 0.13521242 0.14522059 0.15257353 0.14848856 0.14338235\n",
      " 0.14562908 0.15236928 0.15400327 0.14971405 0.1621732  0.16319444\n",
      " 0.16584967 0.16809478 0.17125416 0.173814   0.1760551  0.1781258\n",
      " 0.18008706 0.18196496 0.18377578 0.1855329  0.18724704 0.1889258\n",
      " 0.19057393 0.19219398 0.19378713 0.19535387 0.19689447 0.19840947\n",
      " 0.19989946 0.20136529 0.20280802 0.204229   0.20562938 0.20701036\n",
      " 0.20837298 0.20971826 0.21104681 0.21235931 0.2136561  0.21493745\n",
      " 0.2162036  0.21745452 0.21869037 0.21991113 0.22111672 0.22230732\n",
      " 0.22348282 0.22464323 0.22578868 0.22691923 0.22803503 0.22913614\n",
      " 0.23022267 0.23129478 0.23235261 0.23339638 0.2344262  0.23544228\n",
      " 0.23644474 0.23743391 0.23840985 0.23937276 0.24032292 0.24126047\n",
      " 0.24218559 0.24309862 0.24399954 0.24488869]\n",
      "27 day output [[0.24576625]]\n",
      "28 day input [0.17034314 0.16830065 0.17279412 0.17544935 0.18382353 0.19138072\n",
      " 0.18913399 0.19097222 0.17238562 0.16830065 0.1693219  0.17177288\n",
      " 0.16156046 0.14971405 0.1503268  0.15196078 0.14726307 0.14501634\n",
      " 0.14603758 0.12479575 0.13112745 0.11397059 0.1190768  0.12377451\n",
      " 0.13562092 0.12908497 0.13459967 0.12806373 0.13031046 0.12724673\n",
      " 0.13521242 0.14522059 0.15257353 0.14848856 0.14338235 0.14562908\n",
      " 0.15236928 0.15400327 0.14971405 0.1621732  0.16319444 0.16584967\n",
      " 0.16809478 0.17125416 0.173814   0.1760551  0.1781258  0.18008706\n",
      " 0.18196496 0.18377578 0.1855329  0.18724704 0.1889258  0.19057393\n",
      " 0.19219398 0.19378713 0.19535387 0.19689447 0.19840947 0.19989946\n",
      " 0.20136529 0.20280802 0.204229   0.20562938 0.20701036 0.20837298\n",
      " 0.20971826 0.21104681 0.21235931 0.2136561  0.21493745 0.2162036\n",
      " 0.21745452 0.21869037 0.21991113 0.22111672 0.22230732 0.22348282\n",
      " 0.22464323 0.22578868 0.22691923 0.22803503 0.22913614 0.23022267\n",
      " 0.23129478 0.23235261 0.23339638 0.2344262  0.23544228 0.23644474\n",
      " 0.23743391 0.23840985 0.23937276 0.24032292 0.24126047 0.24218559\n",
      " 0.24309862 0.24399954 0.24488869 0.24576625]\n",
      "28 day output [[0.24663231]]\n",
      "29 day input [0.16830065 0.17279412 0.17544935 0.18382353 0.19138072 0.18913399\n",
      " 0.19097222 0.17238562 0.16830065 0.1693219  0.17177288 0.16156046\n",
      " 0.14971405 0.1503268  0.15196078 0.14726307 0.14501634 0.14603758\n",
      " 0.12479575 0.13112745 0.11397059 0.1190768  0.12377451 0.13562092\n",
      " 0.12908497 0.13459967 0.12806373 0.13031046 0.12724673 0.13521242\n",
      " 0.14522059 0.15257353 0.14848856 0.14338235 0.14562908 0.15236928\n",
      " 0.15400327 0.14971405 0.1621732  0.16319444 0.16584967 0.16809478\n",
      " 0.17125416 0.173814   0.1760551  0.1781258  0.18008706 0.18196496\n",
      " 0.18377578 0.1855329  0.18724704 0.1889258  0.19057393 0.19219398\n",
      " 0.19378713 0.19535387 0.19689447 0.19840947 0.19989946 0.20136529\n",
      " 0.20280802 0.204229   0.20562938 0.20701036 0.20837298 0.20971826\n",
      " 0.21104681 0.21235931 0.2136561  0.21493745 0.2162036  0.21745452\n",
      " 0.21869037 0.21991113 0.22111672 0.22230732 0.22348282 0.22464323\n",
      " 0.22578868 0.22691923 0.22803503 0.22913614 0.23022267 0.23129478\n",
      " 0.23235261 0.23339638 0.2344262  0.23544228 0.23644474 0.23743391\n",
      " 0.23840985 0.23937276 0.24032292 0.24126047 0.24218559 0.24309862\n",
      " 0.24399954 0.24488869 0.24576625 0.24663231]\n",
      "29 day output [[0.24748716]]\n",
      "[[0.21745452284812927], [0.21869036555290222], [0.219911128282547], [0.22111672163009644], [0.22230732440948486], [0.22348281741142273], [0.22464323043823242], [0.2257886826992035], [0.2269192337989807], [0.22803503274917603], [0.2291361391544342], [0.2302226722240448], [0.23129478096961975], [0.232352614402771], [0.23339638113975525], [0.23442620038986206], [0.23544228076934814], [0.23644474148750305], [0.23743391036987305], [0.2384098470211029], [0.23937276005744934], [0.24032291769981384], [0.24126046895980835], [0.2421855926513672], [0.24309861660003662], [0.24399954080581665], [0.24488869309425354], [0.24576625227928162], [0.24663230776786804], [0.2474871575832367]]\n"
     ]
    }
   ],
   "source": [
    "from numpy import array\n",
    "\n",
    "lst_output=[]\n",
    "n_steps=100\n",
    "i=0\n",
    "while(i<30):\n",
    "    \n",
    "    if(len(temp_input)>100):\n",
    "        #print(temp_input)\n",
    "        x_input=np.array(temp_input[1:])\n",
    "        print(\"{} day input {}\".format(i,x_input))\n",
    "        x_input=x_input.reshape(1,-1)\n",
    "        x_input = x_input.reshape((1, n_steps, 1))\n",
    "        #print(x_input)\n",
    "        yhat = model.predict(x_input, verbose=0)\n",
    "        print(\"{} day output {}\".format(i,yhat))\n",
    "        temp_input.extend(yhat[0].tolist())\n",
    "        temp_input=temp_input[1:]\n",
    "        #print(temp_input)\n",
    "        lst_output.extend(yhat.tolist())\n",
    "        i=i+1\n",
    "    else:\n",
    "        x_input = x_input.reshape((1, n_steps,1))\n",
    "        yhat = model.predict(x_input, verbose=0)\n",
    "        print(yhat[0])\n",
    "        temp_input.extend(yhat[0].tolist())\n",
    "        print(len(temp_input))\n",
    "        lst_output.extend(yhat.tolist())\n",
    "        i=i+1\n",
    "    \n",
    "\n",
    "print(lst_output)"
   ]
  },
  {
   "cell_type": "code",
   "execution_count": 25,
   "id": "dd4bbeca",
   "metadata": {},
   "outputs": [],
   "source": [
    "day_new=np.arange(1,101)\n",
    "day_pred=np.arange(101,131)"
   ]
  },
  {
   "cell_type": "code",
   "execution_count": 26,
   "id": "6ea13291",
   "metadata": {},
   "outputs": [
    {
     "data": {
      "text/plain": [
       "2035"
      ]
     },
     "execution_count": 26,
     "metadata": {},
     "output_type": "execute_result"
    }
   ],
   "source": [
    "len(df1)"
   ]
  },
  {
   "cell_type": "code",
   "execution_count": 27,
   "id": "ff402a54",
   "metadata": {},
   "outputs": [
    {
     "data": {
      "text/plain": [
       "[<matplotlib.lines.Line2D at 0x1e60321ce20>]"
      ]
     },
     "execution_count": 27,
     "metadata": {},
     "output_type": "execute_result"
    },
    {
     "data": {
      "image/png": "[encoded data removed]",
      "text/plain": [
       "<Figure size 640x480 with 1 Axes>"
      ]
     },
     "metadata": {},
     "output_type": "display_data"
    }
   ],
   "source": [
    "plt.plot(day_new,scaler.inverse_transform(df1[1935:]))\n",
    "plt.plot(day_pred,scaler.inverse_transform(lst_output))"
   ]
  },
  {
   "cell_type": "code",
   "execution_count": 28,
   "id": "8a86894d",
   "metadata": {},
   "outputs": [
    {
     "data": {
      "text/plain": [
       "[<matplotlib.lines.Line2D at 0x1e60319fb80>]"
      ]
     },
     "execution_count": 28,
     "metadata": {},
     "output_type": "execute_result"
    },
    {
     "data": {
      "image/png": "[encoded data removed]",
      "text/plain": [
       "<Figure size 640x480 with 1 Axes>"
      ]
     },
     "metadata": {},
     "output_type": "display_data"
    }
   ],
   "source": [
    "df3=df1.tolist()\n",
    "df3.extend(lst_output)\n",
    "plt.plot(df3[2000:])"
   ]
  },
  {
   "cell_type": "code",
   "execution_count": 29,
   "id": "61e1848d",
   "metadata": {},
   "outputs": [],
   "source": [
    "df3=scaler.inverse_transform(df3).tolist()"
   ]
  },
  {
   "cell_type": "code",
   "execution_count": 30,
   "id": "07240fee",
   "metadata": {},
   "outputs": [
    {
     "data": {
      "text/plain": [
       "[<matplotlib.lines.Line2D at 0x1e60b945270>]"
      ]
     },
     "execution_count": 30,
     "metadata": {},
     "output_type": "execute_result"
    },
    {
     "data": {
      "image/png": "[encoded data removed]",
      "text/plain": [
       "<Figure size 640x480 with 1 Axes>"
      ]
     },
     "metadata": {},
     "output_type": "display_data"
    }
   ],
   "source": [
    "plt.plot(df3)"
   ]
  },
  {
   "cell_type": "code",
   "execution_count": null,
   "id": "718da48b",
   "metadata": {},
   "outputs": [],
   "source": []
  }
 ],
 "metadata": {
  "kernelspec": {
   "display_name": "Python 3 (ipykernel)",
   "language": "python",
   "name": "python3"
  },
  "language_info": {
   "codemirror_mode": {
    "name": "ipython",
    "version": 3
   },
   "file_extension": ".py",
   "mimetype": "text/x-python",
   "name": "python",
   "nbconvert_exporter": "python",
   "pygments_lexer": "ipython3",
   "version": "3.10.9"
  }
 },
 "nbformat": 4,
 "nbformat_minor": 5
}
